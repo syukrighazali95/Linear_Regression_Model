{
    "cells": [
        {
            "cell_type": "markdown",
            "source": [
                "# Introduction of Linear Regression using Deep Learning with Tensorflow\r\n",
                "\r\n",
                "Below is the example of using neural network for linear regression. However, if you want to see more on how to create the model manually from scratch using Tensorflow, you can refer to this link below:\r\n",
                "\r\n",
                "[https://www.geeksforgeeks.org/linear-regression-using-tensorflow/](https://www.geeksforgeeks.org/linear-regression-using-tensorflow/)"
            ],
            "metadata": {}
        },
        {
            "cell_type": "code",
            "execution_count": 2,
            "source": [
                "import tensorflow as tf\r\n",
                "import numpy as np \r\n",
                "import matplotlib.pyplot as plt"
            ],
            "outputs": [],
            "metadata": {}
        },
        {
            "cell_type": "markdown",
            "source": [
                "## Let's create a simple linear datasets to show how to use the neural network for predictions\r\n",
                "The relationship below is set to be y = x + 10 just to show the concept. Normally these data are scattered and more complex than this"
            ],
            "metadata": {}
        },
        {
            "cell_type": "code",
            "execution_count": 65,
            "source": [
                "# Create features\r\n",
                "X = np.array([-7.0, -4.0, -1.0, 2.0, 5.0, 8.0, 11.0, 14.0])\r\n",
                "\r\n",
                "# Create labels \r\n",
                "y = np.array([3.0, 6.0, 9.0, 12.0, 15.0, 18.0, 21.0, 24.0])"
            ],
            "outputs": [],
            "metadata": {}
        },
        {
            "cell_type": "code",
            "execution_count": 66,
            "source": [
                "# Visualize it \r\n",
                "plt.scatter(X,y)\r\n",
                "plt.show()"
            ],
            "outputs": [
                {
                    "output_type": "display_data",
                    "data": {
                        "text/plain": [
                            "<Figure size 432x288 with 1 Axes>"
                        ],
                        "image/png": "[encoded data removed]"
                    },
                    "metadata": {
                        "needs_background": "light"
                    }
                }
            ],
            "metadata": {}
        },
        {
            "cell_type": "code",
            "execution_count": 67,
            "source": [
                "# Figure out the relationship\r\n",
                "print(y == X + 10)"
            ],
            "outputs": [
                {
                    "output_type": "stream",
                    "name": "stdout",
                    "text": [
                        "[ True  True  True  True  True  True  True  True]\n"
                    ]
                }
            ],
            "metadata": {}
        },
        {
            "cell_type": "code",
            "execution_count": 69,
            "source": [
                "# Visualize the data\r\n",
                "input_shape = X.shape\r\n",
                "output_shape = y.shape\r\n",
                "(input_shape, output_shape)"
            ],
            "outputs": [
                {
                    "output_type": "execute_result",
                    "data": {
                        "text/plain": [
                            "((8,), (8,))"
                        ]
                    },
                    "metadata": {},
                    "execution_count": 69
                }
            ],
            "metadata": {}
        },
        {
            "cell_type": "code",
            "execution_count": 55,
            "source": [
                "# Converting numpy to tensors\r\n",
                "X = tf.constant(X)\r\n",
                "y = tf.constant(y)\r\n",
                "X, y"
            ],
            "outputs": [
                {
                    "output_type": "execute_result",
                    "data": {
                        "text/plain": [
                            "(<tf.Tensor: shape=(8,), dtype=float64, numpy=array([-7., -4., -1.,  2.,  5.,  8., 11., 14.])>,\n",
                            " <tf.Tensor: shape=(8,), dtype=float64, numpy=array([ 3.,  6.,  9., 12., 15., 18., 21., 24.])>)"
                        ]
                    },
                    "metadata": {},
                    "execution_count": 55
                }
            ],
            "metadata": {}
        },
        {
            "cell_type": "code",
            "execution_count": 70,
            "source": [
                "# Steps in modelling in tensorflow\r\n",
                "# Set the random seed so that we get a reproducible value\r\n",
                "tf.random.set_seed(42)"
            ],
            "outputs": [],
            "metadata": {}
        },
        {
            "cell_type": "code",
            "execution_count": 71,
            "source": [
                "# 1) Create a model using Sequential API\r\n",
                "model = tf.keras.Sequential([\r\n",
                "    tf.keras.layers.Dense(1)\r\n",
                "])"
            ],
            "outputs": [],
            "metadata": {}
        },
        {
            "cell_type": "code",
            "execution_count": 72,
            "source": [
                "# 2) Compile the model and use stochastic gradient descent\r\n",
                "model.compile(\r\n",
                "    loss = tf.keras.losses.mae,\r\n",
                "    optimizer=tf.keras.optimizers.Adam(),\r\n",
                "    metrics=['mae']\r\n",
                "    )"
            ],
            "outputs": [],
            "metadata": {}
        },
        {
            "cell_type": "markdown",
            "source": [
                "![mae](Images/MAE.PNG)"
            ],
            "metadata": {}
        },
        {
            "cell_type": "markdown",
            "source": [
                "Please refer to the link below to understand more about stochastic gradient descent:\r\n",
                "\r\n",
                "[https://towardsdatascience.com/stochastic-gradient-descent-clearly-explained-53d239905d31](https://towardsdatascience.com/stochastic-gradient-descent-clearly-explained-53d239905d31)"
            ],
            "metadata": {}
        },
        {
            "cell_type": "code",
            "execution_count": 73,
            "source": [
                "# 3) Fit the model \r\n",
                "history = model.fit(X,y, epochs=30)"
            ],
            "outputs": [
                {
                    "output_type": "stream",
                    "name": "stdout",
                    "text": [
                        "Epoch 1/30\n",
                        "1/1 [==============================] - 0s 239ms/step - loss: 11.5048 - mae: 11.5048\n",
                        "Epoch 2/30\n",
                        "1/1 [==============================] - 0s 4ms/step - loss: 11.5003 - mae: 11.5003\n",
                        "Epoch 3/30\n",
                        "1/1 [==============================] - 0s 3ms/step - loss: 11.4958 - mae: 11.4958\n",
                        "Epoch 4/30\n",
                        "1/1 [==============================] - 0s 3ms/step - loss: 11.4913 - mae: 11.4913\n",
                        "Epoch 5/30\n",
                        "1/1 [==============================] - 0s 3ms/step - loss: 11.4868 - mae: 11.4868\n",
                        "Epoch 6/30\n",
                        "1/1 [==============================] - 0s 3ms/step - loss: 11.4823 - mae: 11.4823\n",
                        "Epoch 7/30\n",
                        "1/1 [==============================] - 0s 4ms/step - loss: 11.4778 - mae: 11.4778\n",
                        "Epoch 8/30\n",
                        "1/1 [==============================] - 0s 5ms/step - loss: 11.4733 - mae: 11.4733\n",
                        "Epoch 9/30\n",
                        "1/1 [==============================] - 0s 5ms/step - loss: 11.4688 - mae: 11.4688\n",
                        "Epoch 10/30\n",
                        "1/1 [==============================] - 0s 4ms/step - loss: 11.4643 - mae: 11.4643\n",
                        "Epoch 11/30\n",
                        "1/1 [==============================] - 0s 3ms/step - loss: 11.4598 - mae: 11.4598\n",
                        "Epoch 12/30\n",
                        "1/1 [==============================] - 0s 4ms/step - loss: 11.4553 - mae: 11.4553\n",
                        "Epoch 13/30\n",
                        "1/1 [==============================] - 0s 3ms/step - loss: 11.4508 - mae: 11.4508\n",
                        "Epoch 14/30\n",
                        "1/1 [==============================] - 0s 4ms/step - loss: 11.4463 - mae: 11.4463\n",
                        "Epoch 15/30\n",
                        "1/1 [==============================] - 0s 4ms/step - loss: 11.4418 - mae: 11.4418\n",
                        "Epoch 16/30\n",
                        "1/1 [==============================] - 0s 4ms/step - loss: 11.4373 - mae: 11.4373\n",
                        "Epoch 17/30\n",
                        "1/1 [==============================] - 0s 3ms/step - loss: 11.4328 - mae: 11.4328\n",
                        "Epoch 18/30\n",
                        "1/1 [==============================] - 0s 4ms/step - loss: 11.4283 - mae: 11.4283\n",
                        "Epoch 19/30\n",
                        "1/1 [==============================] - 0s 4ms/step - loss: 11.4238 - mae: 11.4238\n",
                        "Epoch 20/30\n",
                        "1/1 [==============================] - 0s 4ms/step - loss: 11.4193 - mae: 11.4193\n",
                        "Epoch 21/30\n",
                        "1/1 [==============================] - 0s 4ms/step - loss: 11.4148 - mae: 11.4148\n",
                        "Epoch 22/30\n",
                        "1/1 [==============================] - 0s 5ms/step - loss: 11.4103 - mae: 11.4103\n",
                        "Epoch 23/30\n",
                        "1/1 [==============================] - 0s 4ms/step - loss: 11.4058 - mae: 11.4058\n",
                        "Epoch 24/30\n",
                        "1/1 [==============================] - 0s 6ms/step - loss: 11.4013 - mae: 11.4013\n",
                        "Epoch 25/30\n",
                        "1/1 [==============================] - 0s 5ms/step - loss: 11.3968 - mae: 11.3968\n",
                        "Epoch 26/30\n",
                        "1/1 [==============================] - 0s 3ms/step - loss: 11.3923 - mae: 11.3923\n",
                        "Epoch 27/30\n",
                        "1/1 [==============================] - 0s 3ms/step - loss: 11.3878 - mae: 11.3878\n",
                        "Epoch 28/30\n",
                        "1/1 [==============================] - 0s 2ms/step - loss: 11.3833 - mae: 11.3833\n",
                        "Epoch 29/30\n",
                        "1/1 [==============================] - 0s 4ms/step - loss: 11.3788 - mae: 11.3788\n",
                        "Epoch 30/30\n",
                        "1/1 [==============================] - 0s 4ms/step - loss: 11.3743 - mae: 11.3743\n"
                    ]
                }
            ],
            "metadata": {}
        },
        {
            "cell_type": "markdown",
            "source": [
                "As you can see the error is still significant and this means that our prediction will be way off the expected value"
            ],
            "metadata": {}
        },
        {
            "cell_type": "code",
            "execution_count": 74,
            "source": [
                "# 4) Try and make prediction with our model\r\n",
                "y_pred = model.predict([3.0])\r\n",
                "print(y_pred)"
            ],
            "outputs": [
                {
                    "output_type": "stream",
                    "name": "stdout",
                    "text": [
                        "[[1.8301789]]\n"
                    ]
                }
            ],
            "metadata": {}
        },
        {
            "cell_type": "code",
            "execution_count": 61,
            "source": [
                "# 5) Try to visualize the data \r\n",
                "plt.plot(X, y, label=\"Linear regression\")\r\n",
                "plt.plot()\r\n",
                "plt.show()"
            ],
            "outputs": [
                {
                    "output_type": "display_data",
                    "data": {
                        "text/plain": [
                            "<Figure size 432x288 with 1 Axes>"
                        ],
                        "image/png": "[encoded data removed]"
                    },
                    "metadata": {
                        "needs_background": "light"
                    }
                }
            ],
            "metadata": {}
        },
        {
            "cell_type": "markdown",
            "source": [
                "NOTE: This is not the complete solution to this problem using deep learning as there are other things that we missed here but overall this is just to show how we can use neural network to do predictions:\r\n",
                "\r\n",
                "+ Fine tuning the model\r\n",
                "+ Effect of adding more epochs\r\n",
                "+ Adding more layers\r\n",
                "+ Use different neural network model \r\n",
                "+ Change the optimizer - is stochastic gradient descent is the best optimizer for linear regression?\r\n",
                "+ Split the datasets into train and test dataset\r\n",
                "\r\n",
                "Complete solution can be seen in Complete_Linear_Regression.py"
            ],
            "metadata": {}
        }
    ],
    "metadata": {
        "orig_nbformat": 4,
        "language_info": {
            "name": "python",
            "version": "3.8.3",
            "mimetype": "text/x-python",
            "codemirror_mode": {
                "name": "ipython",
                "version": 3
            },
            "pygments_lexer": "ipython3",
            "nbconvert_exporter": "python",
            "file_extension": ".py"
        },
        "kernelspec": {
            "name": "python3",
            "display_name": "Python 3.8.3 64-bit ('virt': venv)"
        },
        "interpreter": {
            "hash": "b2dd64caff6017c73868a520070f66135499acad4294e2150a383f0bda0e1789"
        }
    },
    "nbformat": 4,
    "nbformat_minor": 2
}